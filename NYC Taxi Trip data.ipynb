{
 "cells": [
  {
   "cell_type": "markdown",
   "metadata": {},
   "source": [
    "# Capital One Data Challenge \n",
    "Analyzing New York Taxi Data"
   ]
  },
  {
   "cell_type": "code",
   "execution_count": 167,
   "metadata": {
    "collapsed": true
   },
   "outputs": [],
   "source": [
    "#Import the necessary packages\n",
    "#Python version: 2.7.12\n",
    "#numpy verison:1.11.1\n",
    "#Pandas version: 0.18.1\n",
    "#matplotlib version: 1.5.1\n",
    "import numpy as np\n",
    "import pandas as pd\n",
    "import matplotlib.pyplot as plt\n",
    "%matplotlib inline\n",
    "\n",
    "import warnings\n",
    "warnings.filterwarnings('ignore')"
   ]
  },
  {
   "cell_type": "markdown",
   "metadata": {},
   "source": [
    "## Question 1\n",
    "\n",
    "1. Programmatically download and load into your favorite analytical tool the trip data for September 2015.\n",
    "2. Report how many rows and columns of data you have loaded."
   ]
  },
  {
   "cell_type": "code",
   "execution_count": 188,
   "metadata": {
    "collapsed": false
   },
   "outputs": [
    {
     "data": {
      "text/html": [
       "<div>\n",
       "<table border=\"1\" class=\"dataframe\">\n",
       "  <thead>\n",
       "    <tr style=\"text-align: right;\">\n",
       "      <th></th>\n",
       "      <th>VendorID</th>\n",
       "      <th>lpep_pickup_datetime</th>\n",
       "      <th>Lpep_dropoff_datetime</th>\n",
       "      <th>Store_and_fwd_flag</th>\n",
       "      <th>RateCodeID</th>\n",
       "      <th>Pickup_longitude</th>\n",
       "      <th>Pickup_latitude</th>\n",
       "      <th>Dropoff_longitude</th>\n",
       "      <th>Dropoff_latitude</th>\n",
       "      <th>Passenger_count</th>\n",
       "      <th>...</th>\n",
       "      <th>Fare_amount</th>\n",
       "      <th>Extra</th>\n",
       "      <th>MTA_tax</th>\n",
       "      <th>Tip_amount</th>\n",
       "      <th>Tolls_amount</th>\n",
       "      <th>Ehail_fee</th>\n",
       "      <th>improvement_surcharge</th>\n",
       "      <th>Total_amount</th>\n",
       "      <th>Payment_type</th>\n",
       "      <th>Trip_type</th>\n",
       "    </tr>\n",
       "  </thead>\n",
       "  <tbody>\n",
       "    <tr>\n",
       "      <th>0</th>\n",
       "      <td>2</td>\n",
       "      <td>2015-09-01 00:02:34</td>\n",
       "      <td>2015-09-01 00:02:38</td>\n",
       "      <td>N</td>\n",
       "      <td>5</td>\n",
       "      <td>-73.979485</td>\n",
       "      <td>40.684956</td>\n",
       "      <td>-73.979431</td>\n",
       "      <td>40.685020</td>\n",
       "      <td>1</td>\n",
       "      <td>...</td>\n",
       "      <td>7.8</td>\n",
       "      <td>0.0</td>\n",
       "      <td>0.0</td>\n",
       "      <td>1.95</td>\n",
       "      <td>0.0</td>\n",
       "      <td>NaN</td>\n",
       "      <td>0.0</td>\n",
       "      <td>9.75</td>\n",
       "      <td>1</td>\n",
       "      <td>2.0</td>\n",
       "    </tr>\n",
       "    <tr>\n",
       "      <th>1</th>\n",
       "      <td>2</td>\n",
       "      <td>2015-09-01 00:04:20</td>\n",
       "      <td>2015-09-01 00:04:24</td>\n",
       "      <td>N</td>\n",
       "      <td>5</td>\n",
       "      <td>-74.010796</td>\n",
       "      <td>40.912216</td>\n",
       "      <td>-74.010780</td>\n",
       "      <td>40.912212</td>\n",
       "      <td>1</td>\n",
       "      <td>...</td>\n",
       "      <td>45.0</td>\n",
       "      <td>0.0</td>\n",
       "      <td>0.0</td>\n",
       "      <td>0.00</td>\n",
       "      <td>0.0</td>\n",
       "      <td>NaN</td>\n",
       "      <td>0.0</td>\n",
       "      <td>45.00</td>\n",
       "      <td>1</td>\n",
       "      <td>2.0</td>\n",
       "    </tr>\n",
       "    <tr>\n",
       "      <th>2</th>\n",
       "      <td>2</td>\n",
       "      <td>2015-09-01 00:01:50</td>\n",
       "      <td>2015-09-01 00:04:24</td>\n",
       "      <td>N</td>\n",
       "      <td>1</td>\n",
       "      <td>-73.921410</td>\n",
       "      <td>40.766708</td>\n",
       "      <td>-73.914413</td>\n",
       "      <td>40.764687</td>\n",
       "      <td>1</td>\n",
       "      <td>...</td>\n",
       "      <td>4.0</td>\n",
       "      <td>0.5</td>\n",
       "      <td>0.5</td>\n",
       "      <td>0.50</td>\n",
       "      <td>0.0</td>\n",
       "      <td>NaN</td>\n",
       "      <td>0.3</td>\n",
       "      <td>5.80</td>\n",
       "      <td>1</td>\n",
       "      <td>1.0</td>\n",
       "    </tr>\n",
       "    <tr>\n",
       "      <th>3</th>\n",
       "      <td>2</td>\n",
       "      <td>2015-09-01 00:02:36</td>\n",
       "      <td>2015-09-01 00:06:42</td>\n",
       "      <td>N</td>\n",
       "      <td>1</td>\n",
       "      <td>-73.921387</td>\n",
       "      <td>40.766678</td>\n",
       "      <td>-73.931427</td>\n",
       "      <td>40.771584</td>\n",
       "      <td>1</td>\n",
       "      <td>...</td>\n",
       "      <td>5.0</td>\n",
       "      <td>0.5</td>\n",
       "      <td>0.5</td>\n",
       "      <td>0.00</td>\n",
       "      <td>0.0</td>\n",
       "      <td>NaN</td>\n",
       "      <td>0.3</td>\n",
       "      <td>6.30</td>\n",
       "      <td>2</td>\n",
       "      <td>1.0</td>\n",
       "    </tr>\n",
       "    <tr>\n",
       "      <th>4</th>\n",
       "      <td>2</td>\n",
       "      <td>2015-09-01 00:00:14</td>\n",
       "      <td>2015-09-01 00:04:20</td>\n",
       "      <td>N</td>\n",
       "      <td>1</td>\n",
       "      <td>-73.955482</td>\n",
       "      <td>40.714046</td>\n",
       "      <td>-73.944412</td>\n",
       "      <td>40.714729</td>\n",
       "      <td>1</td>\n",
       "      <td>...</td>\n",
       "      <td>5.0</td>\n",
       "      <td>0.5</td>\n",
       "      <td>0.5</td>\n",
       "      <td>0.00</td>\n",
       "      <td>0.0</td>\n",
       "      <td>NaN</td>\n",
       "      <td>0.3</td>\n",
       "      <td>6.30</td>\n",
       "      <td>2</td>\n",
       "      <td>1.0</td>\n",
       "    </tr>\n",
       "  </tbody>\n",
       "</table>\n",
       "<p>5 rows × 21 columns</p>\n",
       "</div>"
      ],
      "text/plain": [
       "   VendorID lpep_pickup_datetime Lpep_dropoff_datetime Store_and_fwd_flag  \\\n",
       "0         2  2015-09-01 00:02:34   2015-09-01 00:02:38                  N   \n",
       "1         2  2015-09-01 00:04:20   2015-09-01 00:04:24                  N   \n",
       "2         2  2015-09-01 00:01:50   2015-09-01 00:04:24                  N   \n",
       "3         2  2015-09-01 00:02:36   2015-09-01 00:06:42                  N   \n",
       "4         2  2015-09-01 00:00:14   2015-09-01 00:04:20                  N   \n",
       "\n",
       "   RateCodeID  Pickup_longitude  Pickup_latitude  Dropoff_longitude  \\\n",
       "0           5        -73.979485        40.684956         -73.979431   \n",
       "1           5        -74.010796        40.912216         -74.010780   \n",
       "2           1        -73.921410        40.766708         -73.914413   \n",
       "3           1        -73.921387        40.766678         -73.931427   \n",
       "4           1        -73.955482        40.714046         -73.944412   \n",
       "\n",
       "   Dropoff_latitude  Passenger_count     ...      Fare_amount  Extra  MTA_tax  \\\n",
       "0         40.685020                1     ...              7.8    0.0      0.0   \n",
       "1         40.912212                1     ...             45.0    0.0      0.0   \n",
       "2         40.764687                1     ...              4.0    0.5      0.5   \n",
       "3         40.771584                1     ...              5.0    0.5      0.5   \n",
       "4         40.714729                1     ...              5.0    0.5      0.5   \n",
       "\n",
       "   Tip_amount  Tolls_amount  Ehail_fee  improvement_surcharge  Total_amount  \\\n",
       "0        1.95           0.0        NaN                    0.0          9.75   \n",
       "1        0.00           0.0        NaN                    0.0         45.00   \n",
       "2        0.50           0.0        NaN                    0.3          5.80   \n",
       "3        0.00           0.0        NaN                    0.3          6.30   \n",
       "4        0.00           0.0        NaN                    0.3          6.30   \n",
       "\n",
       "   Payment_type  Trip_type   \n",
       "0             1         2.0  \n",
       "1             1         2.0  \n",
       "2             1         1.0  \n",
       "3             2         1.0  \n",
       "4             2         1.0  \n",
       "\n",
       "[5 rows x 21 columns]"
      ]
     },
     "execution_count": 188,
     "metadata": {},
     "output_type": "execute_result"
    }
   ],
   "source": [
    "#import the Green Taxi data for Sept.2015\n",
    "trip_data = pd.read_csv(\"green_tripdata_2015-09.csv\", header=0, delimiter=\",\")\n",
    "# take a peak\n",
    "trip_data.head(5)"
   ]
  },
  {
   "cell_type": "code",
   "execution_count": 168,
   "metadata": {
    "collapsed": false
   },
   "outputs": [
    {
     "name": "stdout",
     "output_type": "stream",
     "text": [
      "# of rows: 1494926 \n",
      "# of columns: 21\n"
     ]
    }
   ],
   "source": [
    "print \"# of rows: {0} \\n# of columns: {1}\".format(trip_data.shape[0], trip_data.shape[1])"
   ]
  },
  {
   "cell_type": "markdown",
   "metadata": {},
   "source": [
    "The data has 1494926 observations and 21 columns"
   ]
  },
  {
   "cell_type": "markdown",
   "metadata": {},
   "source": [
    "## Question 2\n",
    "1. Plot a histogram of the number of the trip distance (\"Trip Distance\").\n",
    "2. Report any structure you find and any hypotheses you have about that structure."
   ]
  },
  {
   "cell_type": "code",
   "execution_count": 169,
   "metadata": {
    "collapsed": false
   },
   "outputs": [
    {
     "name": "stdout",
     "output_type": "stream",
     "text": [
      "count    1.494926e+06\n",
      "mean     2.968141e+00\n",
      "std      3.076621e+00\n",
      "min      0.000000e+00\n",
      "25%      1.100000e+00\n",
      "50%      1.980000e+00\n",
      "75%      3.740000e+00\n",
      "98%      1.210000e+01\n",
      "max      6.031000e+02\n",
      "Name: Trip_distance, dtype: float64\n",
      "\n",
      "# of trips > 50 miles:  10\n"
     ]
    },
    {
     "data": {
      "image/png": "[encoded data removed]",
      "text/plain": [
       "<matplotlib.figure.Figure at 0x1a361ce10>"
      ]
     },
     "metadata": {},
     "output_type": "display_data"
    }
   ],
   "source": [
    "distance_data = trip_data[\"Trip_distance\"]\n",
    "\n",
    "#take a peak, looks like outliers are way out of normal range with 75 percentile 3.74 miles and max is 603 miles!\n",
    "print distance_data.describe([.25, .5, .75, .98])\n",
    "\n",
    "#only 68 trips are greater than 50 miles\n",
    "print \"\\n# of trips > 50 miles: \", trip_data.ix[trip_data.Trip_distance > 100].shape[0]\n",
    "\n",
    "#plot the histogram, upper-bounded by 2 standard deviation above mean\n",
    "plt.figure()\n",
    "plt.hist(distance_data,30,range=[0, distance_data.values.mean()+2*distance_data.values.std()],facecolor='blue')\n",
    "plt.title(\"Histogram of Trip Distance for Green Taxi on Sept, 2015\")\n",
    "plt.xlabel('distance (mi)')\n",
    "plt.ylabel('# of trips')\n",
    "plt.show()"
   ]
  },
  {
   "cell_type": "code",
   "execution_count": 170,
   "metadata": {
    "collapsed": false
   },
   "outputs": [
    {
     "data": {
      "text/plain": [
       "20592"
      ]
     },
     "execution_count": 170,
     "metadata": {},
     "output_type": "execute_result"
    }
   ],
   "source": [
    "#the min is 0, there are 20952 of them\n",
    "trip_data.ix[trip_data.Trip_distance == 0].shape[0]"
   ]
  },
  {
   "cell_type": "markdown",
   "metadata": {},
   "source": [
    "### To sum it up: \n",
    "The distance distribution is pretty right skewed with a long tail, just like some other 0-bounded variables such as income. log transformation might be needed for some analysis. Specifically, New Yorkers love grabbing cabs for short-distance traveling. 75% of trips are less than 4 miles. Outliers exist with extremely long-distance travel (>100 mi)."
   ]
  },
  {
   "cell_type": "markdown",
   "metadata": {},
   "source": [
    "## Question 3\n",
    "1. Report mean and median trip distance grouped by hour of day.\n",
    "2. We'd like to get a rough sense of identifying trips that originate or terminate at one of the NYC area airports. Can you provide a count of how many transactions fit this criteria, the average fair, and any other interesting characteristics of these trips."
   ]
  },
  {
   "cell_type": "code",
   "execution_count": 181,
   "metadata": {
    "collapsed": false
   },
   "outputs": [],
   "source": [
    "trip_data[\"hours\"] = trip_data.lpep_pickup_datetime.apply(lambda x: pd.to_datetime(x, infer_datetime_format=False).hour)"
   ]
  },
  {
   "cell_type": "code",
   "execution_count": 182,
   "metadata": {
    "collapsed": false
   },
   "outputs": [
    {
     "data": {
      "text/html": [
       "<div>\n",
       "<table border=\"1\" class=\"dataframe\">\n",
       "  <thead>\n",
       "    <tr>\n",
       "      <th></th>\n",
       "      <th colspan=\"2\" halign=\"left\">Trip_distance</th>\n",
       "    </tr>\n",
       "    <tr>\n",
       "      <th></th>\n",
       "      <th>mean</th>\n",
       "      <th>median</th>\n",
       "    </tr>\n",
       "    <tr>\n",
       "      <th>hours</th>\n",
       "      <th></th>\n",
       "      <th></th>\n",
       "    </tr>\n",
       "  </thead>\n",
       "  <tbody>\n",
       "    <tr>\n",
       "      <th>0</th>\n",
       "      <td>3.115276</td>\n",
       "      <td>2.20</td>\n",
       "    </tr>\n",
       "    <tr>\n",
       "      <th>1</th>\n",
       "      <td>3.017347</td>\n",
       "      <td>2.12</td>\n",
       "    </tr>\n",
       "    <tr>\n",
       "      <th>2</th>\n",
       "      <td>3.046176</td>\n",
       "      <td>2.14</td>\n",
       "    </tr>\n",
       "    <tr>\n",
       "      <th>3</th>\n",
       "      <td>3.212945</td>\n",
       "      <td>2.20</td>\n",
       "    </tr>\n",
       "    <tr>\n",
       "      <th>4</th>\n",
       "      <td>3.526555</td>\n",
       "      <td>2.36</td>\n",
       "    </tr>\n",
       "    <tr>\n",
       "      <th>5</th>\n",
       "      <td>4.133474</td>\n",
       "      <td>2.90</td>\n",
       "    </tr>\n",
       "    <tr>\n",
       "      <th>6</th>\n",
       "      <td>4.055149</td>\n",
       "      <td>2.84</td>\n",
       "    </tr>\n",
       "    <tr>\n",
       "      <th>7</th>\n",
       "      <td>3.284394</td>\n",
       "      <td>2.17</td>\n",
       "    </tr>\n",
       "    <tr>\n",
       "      <th>8</th>\n",
       "      <td>3.048450</td>\n",
       "      <td>1.98</td>\n",
       "    </tr>\n",
       "    <tr>\n",
       "      <th>9</th>\n",
       "      <td>2.999105</td>\n",
       "      <td>1.96</td>\n",
       "    </tr>\n",
       "    <tr>\n",
       "      <th>10</th>\n",
       "      <td>2.944482</td>\n",
       "      <td>1.92</td>\n",
       "    </tr>\n",
       "    <tr>\n",
       "      <th>11</th>\n",
       "      <td>2.912015</td>\n",
       "      <td>1.88</td>\n",
       "    </tr>\n",
       "    <tr>\n",
       "      <th>12</th>\n",
       "      <td>2.903065</td>\n",
       "      <td>1.89</td>\n",
       "    </tr>\n",
       "    <tr>\n",
       "      <th>13</th>\n",
       "      <td>2.878294</td>\n",
       "      <td>1.84</td>\n",
       "    </tr>\n",
       "    <tr>\n",
       "      <th>14</th>\n",
       "      <td>2.864304</td>\n",
       "      <td>1.83</td>\n",
       "    </tr>\n",
       "    <tr>\n",
       "      <th>15</th>\n",
       "      <td>2.857040</td>\n",
       "      <td>1.81</td>\n",
       "    </tr>\n",
       "    <tr>\n",
       "      <th>16</th>\n",
       "      <td>2.779852</td>\n",
       "      <td>1.80</td>\n",
       "    </tr>\n",
       "    <tr>\n",
       "      <th>17</th>\n",
       "      <td>2.679114</td>\n",
       "      <td>1.78</td>\n",
       "    </tr>\n",
       "    <tr>\n",
       "      <th>18</th>\n",
       "      <td>2.653222</td>\n",
       "      <td>1.80</td>\n",
       "    </tr>\n",
       "    <tr>\n",
       "      <th>19</th>\n",
       "      <td>2.715597</td>\n",
       "      <td>1.85</td>\n",
       "    </tr>\n",
       "    <tr>\n",
       "      <th>20</th>\n",
       "      <td>2.777052</td>\n",
       "      <td>1.90</td>\n",
       "    </tr>\n",
       "    <tr>\n",
       "      <th>21</th>\n",
       "      <td>2.999189</td>\n",
       "      <td>2.03</td>\n",
       "    </tr>\n",
       "    <tr>\n",
       "      <th>22</th>\n",
       "      <td>3.185394</td>\n",
       "      <td>2.20</td>\n",
       "    </tr>\n",
       "    <tr>\n",
       "      <th>23</th>\n",
       "      <td>3.191538</td>\n",
       "      <td>2.22</td>\n",
       "    </tr>\n",
       "  </tbody>\n",
       "</table>\n",
       "</div>"
      ],
      "text/plain": [
       "      Trip_distance       \n",
       "               mean median\n",
       "hours                     \n",
       "0          3.115276   2.20\n",
       "1          3.017347   2.12\n",
       "2          3.046176   2.14\n",
       "3          3.212945   2.20\n",
       "4          3.526555   2.36\n",
       "5          4.133474   2.90\n",
       "6          4.055149   2.84\n",
       "7          3.284394   2.17\n",
       "8          3.048450   1.98\n",
       "9          2.999105   1.96\n",
       "10         2.944482   1.92\n",
       "11         2.912015   1.88\n",
       "12         2.903065   1.89\n",
       "13         2.878294   1.84\n",
       "14         2.864304   1.83\n",
       "15         2.857040   1.81\n",
       "16         2.779852   1.80\n",
       "17         2.679114   1.78\n",
       "18         2.653222   1.80\n",
       "19         2.715597   1.85\n",
       "20         2.777052   1.90\n",
       "21         2.999189   2.03\n",
       "22         3.185394   2.20\n",
       "23         3.191538   2.22"
      ]
     },
     "execution_count": 182,
     "metadata": {},
     "output_type": "execute_result"
    }
   ],
   "source": [
    "hourly_data = trip_data[[\"Trip_distance\",\"hours\"]]\n",
    "hourly_data.groupby(\"hours\").agg(['mean', 'median'])"
   ]
  },
  {
   "cell_type": "code",
   "execution_count": 60,
   "metadata": {
    "collapsed": false
   },
   "outputs": [],
   "source": [
    "#import Geopy package to identify airport pickup, please uncomment following line if geopy is not installed\n",
    "#!pip2 install geopy\n",
    "\n",
    "from geopy import Nominatim\n",
    "from geopy.distance import distance\n",
    "geolocator = Nominatim()\n",
    "\n",
    "#record the location of NYC airports\n",
    "JFK_location = geolocator.geocode(\"JFK Airport\")\n",
    "LGA_location = geolocator.geocode(\"LaGuardia Airport\")\n",
    "NWR_location = geolocator.geocode(\"Newark International Airport\")\n",
    "\n",
    "\n",
    "def dist(lat,lon,location):\n",
    "    #input lat: latitude -double lon: longitude -double location:location object created by geopy\n",
    "    return distance((lat, lon), (location.latitude, location.longitude)).miles"
   ]
  },
  {
   "cell_type": "code",
   "execution_count": 60,
   "metadata": {
    "collapsed": false
   },
   "outputs": [],
   "source": [
    "#calculate distances of trips originated or terminated from NYC airports. Takes quite long to run\n",
    "\n",
    "#pickup distance\n",
    "trip_data[\"p_disttoJFK\"] = trip_data.apply(lambda x: dist(x[\"Pickup_latitude\"],x[\"Pickup_longitude\"],JFK_location), axis = 1)\n",
    "trip_data[\"p_disttoLGA\"] = trip_data.apply(lambda x: dist(x[\"Pickup_latitude\"],x[\"Pickup_longitude\"],LGA_location), axis = 1)\n",
    "trip_data[\"p_disttoNWR\"] = trip_data.apply(lambda x: dist(x[\"Pickup_latitude\"],x[\"Pickup_longitude\"],NWR_location), axis = 1)\n",
    "#dropoff distance\n",
    "trip_data[\"d_disttoJFK\"] = trip_data.apply(lambda x: dist(x[\"Dropoff_latitude\"],x[\"Dropoff_longitude\"],JFK_location), axis = 1)\n",
    "trip_data[\"d_disttoLGA\"] = trip_data.apply(lambda x: dist(x[\"Dropoff_latitude\"],x[\"Dropoff_longitude\"],LGA_location), axis = 1)\n",
    "trip_data[\"d_disttoNWR\"] = trip_data.apply(lambda x: dist(x[\"Dropoff_latitude\"],x[\"Dropoff_longitude\"],NWR_location), axis = 1)"
   ]
  },
  {
   "cell_type": "code",
   "execution_count": 70,
   "metadata": {
    "collapsed": false
   },
   "outputs": [],
   "source": [
    "#above takes very long to run so I \"cached\" data here\n",
    "labels = trip_data.columns.values[-6:].tolist()+[\"Fare_amount\"]\n",
    "trip_data.ix[:,labels].to_csv('trip_data_cached.csv')\n",
    "trip_data_new = pd.read_csv(\"trip_data_cached.csv\", header=0, delimiter=\",\")"
   ]
  },
  {
   "cell_type": "code",
   "execution_count": 106,
   "metadata": {
    "collapsed": false
   },
   "outputs": [
    {
     "name": "stdout",
     "output_type": "stream",
     "text": [
      "# of trip start from JFK:  2481\n",
      "# of trip start from LGA:  1924\n",
      "# of trip start from NWR:  42\n",
      "\n",
      "# of trip end at JFK:  26752\n",
      "# of trip end at LGA:  28780\n",
      "# of trip end at NWR:  717\n",
      "\n",
      "Avg fair of trip start from JFK: $ 26.1044820637\n",
      "Avg fair of trip start from LGA: $ 15.6790072765\n",
      "Avg fair of trip start from NWR: $ 58.6452380952\n",
      "\n",
      "Avg fair of trip end at JFK: $ 29.3109771232\n",
      "Avg fair of trip end at LGA: $ 18.6892981237\n",
      "Avg fair of trip end at NWR: $ 75.8292887029\n",
      "\n",
      "Looks like NER is too far and expensive to get to NYC by calling a cab\n"
     ]
    }
   ],
   "source": [
    "#JFK is huge so I defined all trips starting/ending 4 miles from the center that computed by Geopy as \"JFK related trips\"\n",
    "#For other smaller airport, I use 1 mile\n",
    "#if I have more time, I could refine the category more. e.g geocoding more refined location like \"LGA Taxi Center 1\" or even create a \n",
    "#polygon for airport area.\n",
    "\n",
    "print \"# of trip start from JFK: \", trip_data_new.ix[trip_data_new.p_disttoJFK < 4].shape[0]\n",
    "print \"# of trip start from LGA: \",trip_data_new.ix[trip_data_new.p_disttoLGA < 1].shape[0]\n",
    "print \"# of trip start from NWR: \",trip_data_new.ix[trip_data_new.p_disttoNWR < 1].shape[0]\n",
    "print \"\"\n",
    "print \"# of trip end at JFK: \", trip_data_new.ix[trip_data_new.d_disttoJFK < 4].shape[0]\n",
    "print \"# of trip end at LGA: \",trip_data_new.ix[trip_data_new.d_disttoLGA < 1].shape[0]\n",
    "print \"# of trip end at NWR: \",trip_data_new.ix[trip_data_new.d_disttoNWR < 1].shape[0]\n",
    "print \"\"\n",
    "print \"Avg fair of trip start from JFK: $\", trip_data_new.ix[trip_data_new.p_disttoJFK < 4, \"Fare_amount\"].values.mean()\n",
    "print \"Avg fair of trip start from LGA: $\", trip_data_new.ix[trip_data_new.p_disttoLGA < 1, \"Fare_amount\"].values.mean()\n",
    "print \"Avg fair of trip start from NWR: $\", trip_data_new.ix[trip_data_new.p_disttoNWR < 1, \"Fare_amount\"].values.mean()\n",
    "print \"\"\n",
    "print \"Avg fair of trip end at JFK: $\", trip_data_new.ix[trip_data_new.d_disttoJFK < 4, \"Fare_amount\"].values.mean()\n",
    "print \"Avg fair of trip end at LGA: $\", trip_data_new.ix[trip_data_new.d_disttoLGA < 1, \"Fare_amount\"].values.mean()\n",
    "print \"Avg fair of trip end at NWR: $\", trip_data_new.ix[trip_data_new.d_disttoNWR < 1, \"Fare_amount\"].values.mean()\n",
    "print\n",
    "print \"Looks like NER is too far and expensive to get to NYC by calling a cab\""
   ]
  },
  {
   "cell_type": "markdown",
   "metadata": {},
   "source": [
    "## Question 4\n",
    "1. Build a derived variable for tip as a percentage of the total fare.\n",
    "2. Build a predictive model for tip as a percentage of the total fare. Use as much of the data as you like (or all of it). We will validate a sample."
   ]
  },
  {
   "cell_type": "code",
   "execution_count": 189,
   "metadata": {
    "collapsed": true
   },
   "outputs": [],
   "source": [
    "#reset trip data\n",
    "trip_data = pd.read_csv(\"green_tripdata_2015-09.csv\", header=0, delimiter=\",\")"
   ]
  },
  {
   "cell_type": "code",
   "execution_count": 191,
   "metadata": {
    "collapsed": false
   },
   "outputs": [],
   "source": [
    "# sklearn version: 0.18.1\n",
    "from sklearn.model_selection import train_test_split\n",
    "# build a variable as tip_percentage, filter out $0-fare trips\n",
    "trip_data_sub = trip_data.ix[trip_data.Total_amount >0,:]\n",
    "trip_data_sub[\"tip_percentage\"] = trip_data_sub.apply(lambda x: float(x[\"Tip_amount\"])/float(x[\"Total_amount\"]), axis = 1)"
   ]
  },
  {
   "cell_type": "code",
   "execution_count": 192,
   "metadata": {
    "collapsed": false
   },
   "outputs": [],
   "source": [
    "#this variable has a lot of missing value, drop it\n",
    "trip_data_sub = trip_data_sub.drop(\"Ehail_fee\", axis = 1)"
   ]
  },
  {
   "cell_type": "code",
   "execution_count": 193,
   "metadata": {
    "collapsed": false
   },
   "outputs": [
    {
     "name": "stdout",
     "output_type": "stream",
     "text": [
      "VendorID : int64\n",
      "lpep_pickup_datetime : object\n",
      "Lpep_dropoff_datetime : object\n",
      "Store_and_fwd_flag : object\n",
      "RateCodeID : int64\n",
      "Pickup_longitude : float64\n",
      "Pickup_latitude : float64\n",
      "Dropoff_longitude : float64\n",
      "Dropoff_latitude : float64\n",
      "Passenger_count : int64\n",
      "Trip_distance : float64\n",
      "Fare_amount : float64\n",
      "Extra : float64\n",
      "MTA_tax : float64\n",
      "Tip_amount : float64\n",
      "Tolls_amount : float64\n",
      "improvement_surcharge : float64\n",
      "Total_amount : float64\n",
      "Payment_type : int64\n",
      "Trip_type  : float64\n",
      "tip_percentage : float64\n"
     ]
    }
   ],
   "source": [
    "#take a lot at all variable and their types\n",
    "for column in trip_data_sub.columns:\n",
    "    print column, \":\", trip_data_sub[column].dtype"
   ]
  },
  {
   "cell_type": "code",
   "execution_count": 194,
   "metadata": {
    "collapsed": false
   },
   "outputs": [],
   "source": [
    "#For test samples, please follow the following two cells as feature transformation procedures\n",
    "\n",
    "#transform time string to float\n",
    "trip_data_sub[\"lpep_pickup_datetime\"] = trip_data_sub.lpep_pickup_datetime.apply(lambda x: (pd.to_datetime(x) -  pd.datetime(2015, 9, 1))/ np.timedelta64(1, 's'))\n",
    "trip_data_sub[\"Lpep_dropoff_datetime\"] = trip_data_sub.Lpep_dropoff_datetime.apply(lambda x: (pd.to_datetime(x) -  pd.datetime(2015, 9, 1))/ np.timedelta64(1, 's'))"
   ]
  },
  {
   "cell_type": "code",
   "execution_count": 195,
   "metadata": {
    "collapsed": false
   },
   "outputs": [],
   "source": [
    "#tranform categorical features to numerical labels like 0,1,2,3..in order to fit in random forest\n",
    "#Notice that there is a blank after field name trip type:\"Trip type \"\n",
    "\n",
    "from sklearn.preprocessing import LabelEncoder\n",
    "le = LabelEncoder()\n",
    "\n",
    "cat_var = [\"VendorID\",\"Store_and_fwd_flag\",\"RateCodeID\",\"Trip_type \",\"Payment_type\"]\n",
    "for var in cat_var:\n",
    "    trip_data_sub[var] = le.fit_transform(trip_data_sub[var].astype('category')) "
   ]
  },
  {
   "cell_type": "code",
   "execution_count": 196,
   "metadata": {
    "collapsed": false
   },
   "outputs": [],
   "source": [
    "#since the size of the whole data is huge, I will just leave random 20% as test set, and rest 80% as training set\n",
    "#get training and testing data\n",
    "\n",
    "X = trip_data_sub.ix[:,0:trip_data_sub.shape[1]].values\n",
    "y = trip_data_sub.ix[:,trip_data_sub.shape[1]-1].values\n",
    "X_train, X_test, y_train, y_test = train_test_split(X, y, test_size=0.2)"
   ]
  },
  {
   "cell_type": "code",
   "execution_count": 197,
   "metadata": {
    "collapsed": false
   },
   "outputs": [
    {
     "name": "stdout",
     "output_type": "stream",
     "text": [
      "RMSE of prediction for test set is:  0.000210341513078\n"
     ]
    }
   ],
   "source": [
    "from sklearn.ensemble import RandomForestRegressor\n",
    "from sklearn.metrics import mean_squared_error, r2_score\n",
    "\n",
    "#Since some variables are categorical, its better to use tree based algorithm to predict labels. Random forest regressor is a good one\n",
    "#set max_depth to 50 to prevent overfitting\n",
    "clf = RandomForestRegressor(n_estimators=20, max_depth = 50)\n",
    "clf.fit(X_train, y_train)\n",
    "\n",
    "#with 20 trees and limiting max_depth 50 its performing fairly well. Root Mean Square Error is only in 10^-4 level\n",
    "print \"RMSE of prediction for test set is: \", np.sqrt(mean_squared_error(y_test, clf.predict(X_test)))"
   ]
  },
  {
   "cell_type": "code",
   "execution_count": 198,
   "metadata": {
    "collapsed": false
   },
   "outputs": [
    {
     "name": "stdout",
     "output_type": "stream",
     "text": [
      "R^2 score of prediction for test set is:  0.999994379042\n"
     ]
    }
   ],
   "source": [
    "print \"R^2 score of prediction for test set is: \", r2_score(y_test, clf.predict(X_test))"
   ]
  },
  {
   "cell_type": "markdown",
   "metadata": {},
   "source": [
    "## Question 5\n",
    "Choose only one of these options to answer for Question 5. There is no preference as to which one you choose. Please select the question that you feel your particular skills and/or expertise are best suited to. If you answer more than one, only the first will be scored\n",
    "\n",
    "### Option A: Distributions\n",
    "1.   Build a derived variable representing the average speed over the course of a trip.\n",
    "\n",
    "2.   Can you perform a test to determine if the average trip speeds are materially the same in all weeks of September? If you decide they are not the same, can you form a hypothesis regarding why they differ?\n",
    "\n",
    "3.    Can you build up a hypothesis of average trip speed as a function of time of day?"
   ]
  },
  {
   "cell_type": "code",
   "execution_count": 100,
   "metadata": {
    "collapsed": false
   },
   "outputs": [],
   "source": [
    "#filter out those avg speed == 0 and pickup time == drop off time cases, probably caused by unsuccessful/unwanted pickups \n",
    "trip_data_q5 = trip_data.ix[(trip_data.Trip_distance > 0) & (trip_data.Lpep_dropoff_datetime != trip_data.lpep_pickup_datetime)\n",
    "                            ,[\"Trip_distance\", \"Lpep_dropoff_datetime\",\"lpep_pickup_datetime\"]]\n",
    "#calculate average speed\n",
    "trip_data_q5[\"avgSpeed\"] = trip_data_q5.apply(lambda x: x[\"Trip_distance\"]/((pd.Timestamp(x[\"Lpep_dropoff_datetime\"])\\\n",
    "                -pd.Timestamp(x[\"lpep_pickup_datetime\"]))/np.timedelta64(1, 'h')), axis = 1)"
   ]
  },
  {
   "cell_type": "code",
   "execution_count": 102,
   "metadata": {
    "collapsed": true
   },
   "outputs": [],
   "source": [
    "trip_data_q5 = trip_data_q5.ix[:,[\"lpep_pickup_datetime\",\"avgSpeed\"]]"
   ]
  },
  {
   "cell_type": "code",
   "execution_count": 103,
   "metadata": {
    "collapsed": false
   },
   "outputs": [],
   "source": [
    "#get the number of weeks in September 2016, so 9/1 - 9/7 are week one, etc..\n",
    "trip_data_q5[\"weeks\"] = trip_data_q5.lpep_pickup_datetime.apply(lambda x: np.floor((pd.Timestamp(x) - pd.datetime(2015, 9, 1))/np.timedelta64(1, 'W'))+1)"
   ]
  },
  {
   "cell_type": "code",
   "execution_count": 104,
   "metadata": {
    "collapsed": false
   },
   "outputs": [
    {
     "data": {
      "text/html": [
       "<div>\n",
       "<table border=\"1\" class=\"dataframe\">\n",
       "  <thead>\n",
       "    <tr>\n",
       "      <th></th>\n",
       "      <th>avgSpeed</th>\n",
       "    </tr>\n",
       "    <tr>\n",
       "      <th></th>\n",
       "      <th>mean</th>\n",
       "    </tr>\n",
       "    <tr>\n",
       "      <th>weeks</th>\n",
       "      <th></th>\n",
       "    </tr>\n",
       "  </thead>\n",
       "  <tbody>\n",
       "    <tr>\n",
       "      <th>1.0</th>\n",
       "      <td>16.470364</td>\n",
       "    </tr>\n",
       "    <tr>\n",
       "      <th>2.0</th>\n",
       "      <td>15.315193</td>\n",
       "    </tr>\n",
       "    <tr>\n",
       "      <th>3.0</th>\n",
       "      <td>15.413837</td>\n",
       "    </tr>\n",
       "    <tr>\n",
       "      <th>4.0</th>\n",
       "      <td>16.573448</td>\n",
       "    </tr>\n",
       "    <tr>\n",
       "      <th>5.0</th>\n",
       "      <td>17.210589</td>\n",
       "    </tr>\n",
       "  </tbody>\n",
       "</table>\n",
       "</div>"
      ],
      "text/plain": [
       "        avgSpeed\n",
       "            mean\n",
       "weeks           \n",
       "1.0    16.470364\n",
       "2.0    15.315193\n",
       "3.0    15.413837\n",
       "4.0    16.573448\n",
       "5.0    17.210589"
      ]
     },
     "execution_count": 104,
     "metadata": {},
     "output_type": "execute_result"
    }
   ],
   "source": [
    "#mean speed group by weeks\n",
    "trip_data_q5[\"weeks\"] = trip_data_q5[\"weeks\"].astype('category')\n",
    "trip_data_q5.groupby(\"weeks\").agg([\"mean\"])"
   ]
  },
  {
   "cell_type": "code",
   "execution_count": 110,
   "metadata": {
    "collapsed": false
   },
   "outputs": [],
   "source": [
    "#mean speed group by days\n",
    "trip_data_q5[\"date\"] = trip_data_q5.lpep_pickup_datetime.apply(lambda x: pd.to_datetime(x).date())"
   ]
  },
  {
   "cell_type": "code",
   "execution_count": 111,
   "metadata": {
    "collapsed": false
   },
   "outputs": [
    {
     "data": {
      "text/html": [
       "<div>\n",
       "<table border=\"1\" class=\"dataframe\">\n",
       "  <thead>\n",
       "    <tr>\n",
       "      <th></th>\n",
       "      <th>avgSpeed</th>\n",
       "    </tr>\n",
       "    <tr>\n",
       "      <th></th>\n",
       "      <th>mean</th>\n",
       "    </tr>\n",
       "    <tr>\n",
       "      <th>date</th>\n",
       "      <th></th>\n",
       "    </tr>\n",
       "  </thead>\n",
       "  <tbody>\n",
       "    <tr>\n",
       "      <th>2015-09-01</th>\n",
       "      <td>15.419168</td>\n",
       "    </tr>\n",
       "    <tr>\n",
       "      <th>2015-09-02</th>\n",
       "      <td>15.714536</td>\n",
       "    </tr>\n",
       "    <tr>\n",
       "      <th>2015-09-03</th>\n",
       "      <td>15.031782</td>\n",
       "    </tr>\n",
       "    <tr>\n",
       "      <th>2015-09-04</th>\n",
       "      <td>15.627162</td>\n",
       "    </tr>\n",
       "    <tr>\n",
       "      <th>2015-09-05</th>\n",
       "      <td>17.702197</td>\n",
       "    </tr>\n",
       "    <tr>\n",
       "      <th>2015-09-06</th>\n",
       "      <td>17.141581</td>\n",
       "    </tr>\n",
       "    <tr>\n",
       "      <th>2015-09-07</th>\n",
       "      <td>18.449319</td>\n",
       "    </tr>\n",
       "    <tr>\n",
       "      <th>2015-09-08</th>\n",
       "      <td>16.402666</td>\n",
       "    </tr>\n",
       "    <tr>\n",
       "      <th>2015-09-09</th>\n",
       "      <td>14.771532</td>\n",
       "    </tr>\n",
       "    <tr>\n",
       "      <th>2015-09-10</th>\n",
       "      <td>12.879281</td>\n",
       "    </tr>\n",
       "    <tr>\n",
       "      <th>2015-09-11</th>\n",
       "      <td>14.403719</td>\n",
       "    </tr>\n",
       "    <tr>\n",
       "      <th>2015-09-12</th>\n",
       "      <td>15.473086</td>\n",
       "    </tr>\n",
       "    <tr>\n",
       "      <th>2015-09-13</th>\n",
       "      <td>17.094207</td>\n",
       "    </tr>\n",
       "    <tr>\n",
       "      <th>2015-09-14</th>\n",
       "      <td>16.598997</td>\n",
       "    </tr>\n",
       "    <tr>\n",
       "      <th>2015-09-15</th>\n",
       "      <td>15.397001</td>\n",
       "    </tr>\n",
       "    <tr>\n",
       "      <th>2015-09-16</th>\n",
       "      <td>14.418185</td>\n",
       "    </tr>\n",
       "    <tr>\n",
       "      <th>2015-09-17</th>\n",
       "      <td>14.873830</td>\n",
       "    </tr>\n",
       "    <tr>\n",
       "      <th>2015-09-18</th>\n",
       "      <td>14.714501</td>\n",
       "    </tr>\n",
       "    <tr>\n",
       "      <th>2015-09-19</th>\n",
       "      <td>14.987998</td>\n",
       "    </tr>\n",
       "    <tr>\n",
       "      <th>2015-09-20</th>\n",
       "      <td>17.575678</td>\n",
       "    </tr>\n",
       "    <tr>\n",
       "      <th>2015-09-21</th>\n",
       "      <td>15.885327</td>\n",
       "    </tr>\n",
       "    <tr>\n",
       "      <th>2015-09-22</th>\n",
       "      <td>14.990354</td>\n",
       "    </tr>\n",
       "    <tr>\n",
       "      <th>2015-09-23</th>\n",
       "      <td>17.742517</td>\n",
       "    </tr>\n",
       "    <tr>\n",
       "      <th>2015-09-24</th>\n",
       "      <td>17.223752</td>\n",
       "    </tr>\n",
       "    <tr>\n",
       "      <th>2015-09-25</th>\n",
       "      <td>17.056178</td>\n",
       "    </tr>\n",
       "    <tr>\n",
       "      <th>2015-09-26</th>\n",
       "      <td>15.868633</td>\n",
       "    </tr>\n",
       "    <tr>\n",
       "      <th>2015-09-27</th>\n",
       "      <td>16.278669</td>\n",
       "    </tr>\n",
       "    <tr>\n",
       "      <th>2015-09-28</th>\n",
       "      <td>17.215322</td>\n",
       "    </tr>\n",
       "    <tr>\n",
       "      <th>2015-09-29</th>\n",
       "      <td>19.409494</td>\n",
       "    </tr>\n",
       "    <tr>\n",
       "      <th>2015-09-30</th>\n",
       "      <td>15.159059</td>\n",
       "    </tr>\n",
       "  </tbody>\n",
       "</table>\n",
       "</div>"
      ],
      "text/plain": [
       "             avgSpeed\n",
       "                 mean\n",
       "date                 \n",
       "2015-09-01  15.419168\n",
       "2015-09-02  15.714536\n",
       "2015-09-03  15.031782\n",
       "2015-09-04  15.627162\n",
       "2015-09-05  17.702197\n",
       "2015-09-06  17.141581\n",
       "2015-09-07  18.449319\n",
       "2015-09-08  16.402666\n",
       "2015-09-09  14.771532\n",
       "2015-09-10  12.879281\n",
       "2015-09-11  14.403719\n",
       "2015-09-12  15.473086\n",
       "2015-09-13  17.094207\n",
       "2015-09-14  16.598997\n",
       "2015-09-15  15.397001\n",
       "2015-09-16  14.418185\n",
       "2015-09-17  14.873830\n",
       "2015-09-18  14.714501\n",
       "2015-09-19  14.987998\n",
       "2015-09-20  17.575678\n",
       "2015-09-21  15.885327\n",
       "2015-09-22  14.990354\n",
       "2015-09-23  17.742517\n",
       "2015-09-24  17.223752\n",
       "2015-09-25  17.056178\n",
       "2015-09-26  15.868633\n",
       "2015-09-27  16.278669\n",
       "2015-09-28  17.215322\n",
       "2015-09-29  19.409494\n",
       "2015-09-30  15.159059"
      ]
     },
     "execution_count": 111,
     "metadata": {},
     "output_type": "execute_result"
    }
   ],
   "source": [
    "trip_data_q5[\"date\"] = trip_data_q5[\"date\"].astype('category')\n",
    "trip_data_q5.groupby(\"date\").agg([\"mean\"])"
   ]
  },
  {
   "cell_type": "markdown",
   "metadata": {},
   "source": [
    "Looks like the average speed are very similar across different weeks,with the last week a little higher. When group by day, it looks like cabs are faster on holidays and Sundays with some exceptions. 29th has the highest value..Maybe everybody was watching Yankees vs Red Sox on that day? haha\n",
    "\n",
    "Now I will statistically test if the means over weeks are the same using one-way ANOVA tests. first we exclude the last week\n",
    "\n",
    "$H_0 : \\mu_{1} = \\mu_{2} = \\mu_{3} = \\mu_{4} = \\mu_{5}$ (All the group have the same population mean)\n",
    "\n",
    "$H_1 : otherwise$"
   ]
  },
  {
   "cell_type": "code",
   "execution_count": 129,
   "metadata": {
    "collapsed": true
   },
   "outputs": [],
   "source": [
    "#scipy version 0.17.1\n",
    "from scipy.stats import f_oneway"
   ]
  },
  {
   "cell_type": "code",
   "execution_count": 130,
   "metadata": {
    "collapsed": false
   },
   "outputs": [],
   "source": [
    "week1 = trip_data_q5[trip_data_q5.weeks == 1].avgSpeed.values\n",
    "week2 = trip_data_q5[trip_data_q5.weeks == 2].avgSpeed.values\n",
    "week3 = trip_data_q5[trip_data_q5.weeks == 3].avgSpeed.values\n",
    "week4 = trip_data_q5[trip_data_q5.weeks == 4].avgSpeed.values\n",
    "week5 = trip_data_q5[trip_data_q5.weeks == 5].avgSpeed.values"
   ]
  },
  {
   "cell_type": "code",
   "execution_count": 131,
   "metadata": {
    "collapsed": false
   },
   "outputs": [
    {
     "data": {
      "text/plain": [
       "F_onewayResult(statistic=3.2020107960848265, pvalue=0.01225307962107096)"
      ]
     },
     "execution_count": 131,
     "metadata": {},
     "output_type": "execute_result"
    }
   ],
   "source": [
    "f_oneway(week1, week2, week3, week4, week5)"
   ]
  },
  {
   "cell_type": "markdown",
   "metadata": {},
   "source": [
    "P_value < 0.05 thus we reject $H_0$, indeed speed in different weeks are different. Next we test subgroups week1, week4, week5 and week2, week3"
   ]
  },
  {
   "cell_type": "code",
   "execution_count": 132,
   "metadata": {
    "collapsed": false
   },
   "outputs": [
    {
     "data": {
      "text/plain": [
       "F_onewayResult(statistic=0.25309219338189654, pvalue=0.77639636538453283)"
      ]
     },
     "execution_count": 132,
     "metadata": {},
     "output_type": "execute_result"
    }
   ],
   "source": [
    "f_oneway(week1, week4, week5)"
   ]
  },
  {
   "cell_type": "code",
   "execution_count": 133,
   "metadata": {
    "collapsed": false
   },
   "outputs": [
    {
     "data": {
      "text/plain": [
       "F_onewayResult(statistic=0.11281665711779566, pvalue=0.73696001800971289)"
      ]
     },
     "execution_count": 133,
     "metadata": {},
     "output_type": "execute_result"
    }
   ],
   "source": [
    "f_oneway(week2, week3)"
   ]
  },
  {
   "cell_type": "markdown",
   "metadata": {},
   "source": [
    "We can not reject null hypothesis this time. It looks like week 1, 4 ,5 are collectively higher than week 2, 3. I think one reason is that week 1 has a long weekend and people either travel out or stay at home. Also week 5 has an outlier day 29th (Yankee's big game day at home).\n",
    "\n",
    "Ok. Last one. average speed vs time of day"
   ]
  },
  {
   "cell_type": "code",
   "execution_count": 135,
   "metadata": {
    "collapsed": false
   },
   "outputs": [],
   "source": [
    "#mean speed group by hours\n",
    "trip_data_q5[\"hour\"] = trip_data_q5.lpep_pickup_datetime.apply(lambda x: pd.to_datetime(x).hour)\n",
    "trip_data_q5[\"hour\"] = trip_data_q5[\"hour\"].astype('category')\n",
    "mean_hour = trip_data_q5.groupby(\"hour\").agg([\"mean\"])"
   ]
  },
  {
   "cell_type": "code",
   "execution_count": 154,
   "metadata": {
    "collapsed": false
   },
   "outputs": [
    {
     "data": {
      "image/png": "[encoded data removed]",
      "text/plain": [
       "<matplotlib.figure.Figure at 0x1a345c710>"
      ]
     },
     "metadata": {},
     "output_type": "display_data"
    }
   ],
   "source": [
    "#plot the time/speed relationship\n",
    "plt.figure()\n",
    "\n",
    "plt.plot(np.arange(0,24), mean_hour.values.flatten())\n",
    "plt.title(\"Cab speed vs. time in a day on Sept, 2015\")\n",
    "plt.xlabel('time of a day (hour)')\n",
    "plt.ylabel('miles per hour')\n",
    "plt.xlim(0,23)\n",
    "plt.show()"
   ]
  },
  {
   "cell_type": "markdown",
   "metadata": {},
   "source": [
    "Looks like cabs have very high speed right before dawn, slowest in evening rush hour and faster in non-rush hours during the day, evenings and dinner time. Obviously, cab speed is largely determined by traffics. If I have more time, I can do more detailed analysis with only weekends and holidays, and that \"outlier\" 29th. I guess those plots will be slightly different "
   ]
  },
  {
   "cell_type": "markdown",
   "metadata": {},
   "source": [
    "If I have more time, I will definitely make the plots nicer. I would also like to visualize all the trajectories of individual cab trips using d3.js. Also, I would like to investigate what are some key variables to predict tip ratio and why they are. \n",
    "\n",
    "This was fun."
   ]
  },
  {
   "cell_type": "code",
   "execution_count": null,
   "metadata": {
    "collapsed": true
   },
   "outputs": [],
   "source": []
  }
 ],
 "metadata": {
  "anaconda-cloud": {},
  "kernelspec": {
   "display_name": "Python 2",
   "language": "python",
   "name": "python2"
  },
  "language_info": {
   "codemirror_mode": {
    "name": "ipython",
    "version": 2
   },
   "file_extension": ".py",
   "mimetype": "text/x-python",
   "name": "python",
   "nbconvert_exporter": "python",
   "pygments_lexer": "ipython2",
   "version": "2.7.12"
  }
 },
 "nbformat": 4,
 "nbformat_minor": 0
}
