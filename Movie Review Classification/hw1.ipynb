{
 "cells": [
  {
   "cell_type": "markdown",
   "metadata": {},
   "source": [
    "### Part I\n",
    "1.Import the necessary Libraries (uncomment \"pip install\" lines if installation is needed)"
   ]
  },
  {
   "cell_type": "code",
   "execution_count": 1,
   "metadata": {
    "collapsed": false
   },
   "outputs": [],
   "source": [
    "import pandas as pd\n",
    "import numpy as np\n",
    "#!pip install beautifulsoup4;\n",
    "#!pip install matplotlib\n",
    "from bs4 import BeautifulSoup\n",
    "import re\n",
    "from nltk.corpus import stopwords"
   ]
  },
  {
   "cell_type": "code",
   "execution_count": 2,
   "metadata": {
    "collapsed": true
   },
   "outputs": [],
   "source": [
    "train = pd.read_csv(\"labeledTrainData.tsv\", header=0, delimiter=\"\\t\", quoting=3)\n",
    "test = pd.read_csv(\"testData.tsv\", header=0, delimiter=\"\\t\", quoting=3)"
   ]
  },
  {
   "cell_type": "code",
   "execution_count": 3,
   "metadata": {
    "collapsed": false
   },
   "outputs": [
    {
     "name": "stdout",
     "output_type": "stream",
     "text": [
      "(25000, 3) (25000, 2)\n"
     ]
    }
   ],
   "source": [
    "print (train.shape, test.shape)"
   ]
  },
  {
   "cell_type": "markdown",
   "metadata": {},
   "source": [
    "2.Get rid of html tags, get rid of non-alphabets, output preprocessed tokens of words"
   ]
  },
  {
   "cell_type": "code",
   "execution_count": 4,
   "metadata": {
    "collapsed": true
   },
   "outputs": [],
   "source": [
    "def preprocess(String):\n",
    "    out = BeautifulSoup(String, \"html.parser\")\n",
    "    out = out.get_text()\n",
    "    out_list = re.sub(\"[^a-zA-Z]\",\" \",out).lower().split()\n",
    "    stop_words = set(stopwords.words(\"english\"))\n",
    "    out_list_clean = [words for words in out_list if words not in stop_words]\n",
    "    out_clean = \" \".join(out_list_clean)\n",
    "    return out_clean"
   ]
  },
  {
   "cell_type": "code",
   "execution_count": 5,
   "metadata": {
    "collapsed": false
   },
   "outputs": [],
   "source": [
    "train.review = train.review.apply(lambda x: preprocess(x))\n",
    "test.review = test.review.apply(lambda x: preprocess(x))"
   ]
  },
  {
   "cell_type": "code",
   "execution_count": 6,
   "metadata": {
    "collapsed": false
   },
   "outputs": [],
   "source": [
    "from sklearn.feature_extraction.text import CountVectorizer"
   ]
  },
  {
   "cell_type": "markdown",
   "metadata": {},
   "source": [
    "3.Vectorize,  Processing text to create design matrices"
   ]
  },
  {
   "cell_type": "code",
   "execution_count": 7,
   "metadata": {
    "collapsed": true
   },
   "outputs": [],
   "source": [
    "vectorizer = CountVectorizer(analyzer = \"word\", tokenizer = None, preprocessor = None, stop_words = None,max_features = 5000)"
   ]
  },
  {
   "cell_type": "code",
   "execution_count": 8,
   "metadata": {
    "collapsed": false
   },
   "outputs": [],
   "source": [
    "feature_set = vectorizer.fit_transform(train.review)\n",
    "feature_set_test = vectorizer.transform(test.review)"
   ]
  },
  {
   "cell_type": "code",
   "execution_count": 9,
   "metadata": {
    "collapsed": false
   },
   "outputs": [],
   "source": [
    "X_counts = feature_set\n",
    "X_counts_test = feature_set_test"
   ]
  },
  {
   "cell_type": "markdown",
   "metadata": {},
   "source": [
    "Create Binary feature set"
   ]
  },
  {
   "cell_type": "code",
   "execution_count": 10,
   "metadata": {
    "collapsed": true
   },
   "outputs": [],
   "source": [
    "X_binary = feature_set\n",
    "X_binary[X_binary >0] = 1\n",
    "\n",
    "X_binary_test = feature_set_test\n",
    "X_binary_test[X_binary_test >0] = 1"
   ]
  },
  {
   "cell_type": "markdown",
   "metadata": {},
   "source": [
    "Create tfidf feature set"
   ]
  },
  {
   "cell_type": "code",
   "execution_count": 11,
   "metadata": {
    "collapsed": true
   },
   "outputs": [],
   "source": [
    "from sklearn.feature_extraction.text import TfidfTransformer"
   ]
  },
  {
   "cell_type": "code",
   "execution_count": 12,
   "metadata": {
    "collapsed": true
   },
   "outputs": [],
   "source": [
    "transformer = TfidfTransformer(smooth_idf=False)"
   ]
  },
  {
   "cell_type": "code",
   "execution_count": 13,
   "metadata": {
    "collapsed": false
   },
   "outputs": [],
   "source": [
    "X_tfidf = transformer.fit_transform(X_counts)\n",
    "X_tfidf_test = transformer.transform(X_counts_test)"
   ]
  },
  {
   "cell_type": "markdown",
   "metadata": {},
   "source": [
    "Create Imbalanced feature set, and label set"
   ]
  },
  {
   "cell_type": "code",
   "execution_count": 14,
   "metadata": {
    "collapsed": false
   },
   "outputs": [],
   "source": [
    "index_sentiment_1 = train.index[train.sentiment == 1]\n",
    "index_sentiment_0 = train.index[train.sentiment == 0]\n",
    "np.random.seed = 0\n",
    "\n",
    "#only take 25% of the sentiment label==1\n",
    "size = len(index_sentiment_1)*0.25\n",
    "index_sampled = np.random.choice(index_sentiment_1, int(size), replace = False) \n",
    "indx = np.concatenate((index_sentiment_0, index_sampled))"
   ]
  },
  {
   "cell_type": "code",
   "execution_count": 15,
   "metadata": {
    "collapsed": false
   },
   "outputs": [],
   "source": [
    "X_binary_imbalanced = X_binary[indx]\n",
    "y_label_imbalanced = train.sentiment[indx].values "
   ]
  },
  {
   "cell_type": "markdown",
   "metadata": {},
   "source": [
    "### Part II\n",
    "1.create distance function"
   ]
  },
  {
   "cell_type": "code",
   "execution_count": 16,
   "metadata": {
    "collapsed": true
   },
   "outputs": [],
   "source": [
    "def dist(X,i,j, distance_function=\"Euclidean\" ):\n",
    "    dis_vector = X[i,:].toarray() - X[j,:].toarray()\n",
    "    if distance_function == \"Euclidean\":\n",
    "        return np.linalg.norm(dis_vector)\n",
    "    else:\n",
    "        return \"distance method not supported\""
   ]
  },
  {
   "cell_type": "code",
   "execution_count": 17,
   "metadata": {
    "collapsed": false
   },
   "outputs": [
    {
     "name": "stdout",
     "output_type": "stream",
     "text": [
      "11.0905365064\n"
     ]
    }
   ],
   "source": [
    "print(dist(X_counts, 3,5))"
   ]
  },
  {
   "cell_type": "markdown",
   "metadata": {},
   "source": [
    "2.create top k function"
   ]
  },
  {
   "cell_type": "code",
   "execution_count": 28,
   "metadata": {
    "collapsed": true
   },
   "outputs": [],
   "source": [
    "from sklearn.metrics.pairwise import pairwise_distances\n",
    "def topk(X,k):\n",
    "    dist_matrix = pairwise_distances(X)\n",
    "    n_point = dist_matrix.shape[0]\n",
    "    #random permutation to break ties\n",
    "    dist_matrix = np.random.permutation(dist_matrix)\n",
    "    top_k = []\n",
    "    #remove distance to self and duplicates\n",
    "    dist_matrix[dist_matrix == 0] = 999999999\n",
    "    \n",
    "    #print(\"ready\")\n",
    "    \n",
    "    for j in range(k):\n",
    "        best_loc = np.argmin(dist_matrix)\n",
    "        row = int(np.floor(best_loc/n_point))\n",
    "        column = int(best_loc - row*n_point)\n",
    "        top_k.append((row,column, dist_matrix[row,column]))\n",
    "        #remove those that have been included in the top k from dist matrix\n",
    "        dist_matrix[row,column] = 999999999 \n",
    "        dist_matrix[column, row] = 999999999\n",
    "    \n",
    "    return top_k"
   ]
  },
  {
   "cell_type": "code",
   "execution_count": 19,
   "metadata": {
    "collapsed": false
   },
   "outputs": [],
   "source": [
    "topk_counts = topk(X_counts,5)"
   ]
  },
  {
   "cell_type": "code",
   "execution_count": 20,
   "metadata": {
    "collapsed": false
   },
   "outputs": [],
   "source": [
    "def print_everything(topk):\n",
    "    for i in range(len(topk)):\n",
    "        point1 = int(topk[i][0])\n",
    "        point2 = int(topk[i][1])\n",
    "        print (\"top\", i+1)\n",
    "        print (\"indices: \", point1, point2)\n",
    "        print (\"distance: \", topk[i][2])\n",
    "        print (\"first 20 character1: \", train.review[point1][:20], \" ,first 20 character2: \",train.review[point2][:20])\n",
    "        print (\"label1 \", train.sentiment[point1], \"label2 \",train.sentiment[point2])\n",
    "        print (\"\")"
   ]
  },
  {
   "cell_type": "code",
   "execution_count": 21,
   "metadata": {
    "collapsed": false
   },
   "outputs": [
    {
     "name": "stdout",
     "output_type": "stream",
     "text": [
      "top 1\n",
      "indices:  430 11331\n",
      "distance:  1.0\n",
      "first 20 character1:  somebody owes ang le  ,first 20 character2:  saw theater fell cha\n",
      "label1  0 label2  1\n",
      "\n",
      "top 2\n",
      "indices:  1586 13530\n",
      "distance:  1.0\n",
      "first 20 character1:  enjoy watching peopl  ,first 20 character2:  brothers psychokinet\n",
      "label1  1 label2  1\n",
      "\n",
      "top 3\n",
      "indices:  3447 20915\n",
      "distance:  1.0\n",
      "first 20 character1:  waiting superhero mo  ,first 20 character2:  atlantis much better\n",
      "label1  1 label2  1\n",
      "\n",
      "top 4\n",
      "indices:  4440 16635\n",
      "distance:  1.0\n",
      "first 20 character1:  irish critics rave m  ,first 20 character2:  really suprised movi\n",
      "label1  0 label2  1\n",
      "\n",
      "top 5\n",
      "indices:  4963 7663\n",
      "distance:  1.0\n",
      "first 20 character1:  curious yellow risib  ,first 20 character2:  saw theater fell cha\n",
      "label1  0 label2  1\n",
      "\n"
     ]
    }
   ],
   "source": [
    "print_everything(topk_counts)"
   ]
  },
  {
   "cell_type": "code",
   "execution_count": 22,
   "metadata": {
    "collapsed": false
   },
   "outputs": [],
   "source": [
    "topk_binary = topk(X_binary, 5)"
   ]
  },
  {
   "cell_type": "code",
   "execution_count": 23,
   "metadata": {
    "collapsed": false
   },
   "outputs": [
    {
     "name": "stdout",
     "output_type": "stream",
     "text": [
      "top 1\n",
      "indices:  3210 21854\n",
      "distance:  1.0\n",
      "first 20 character1:  sean know think abso  ,first 20 character2:  big fan rom coms bes\n",
      "label1  0 label2  0\n",
      "\n",
      "top 2\n",
      "indices:  4577 13530\n",
      "distance:  1.0\n",
      "first 20 character1:  idea film saw tashan  ,first 20 character2:  brothers psychokinet\n",
      "label1  0 label2  1\n",
      "\n",
      "top 3\n",
      "indices:  4722 7245\n",
      "distance:  1.0\n",
      "first 20 character1:  production never rea  ,first 20 character2:  really surprised mov\n",
      "label1  0 label2  1\n",
      "\n",
      "top 4\n",
      "indices:  4851 17927\n",
      "distance:  1.0\n",
      "first 20 character1:  anyone else feel bet  ,first 20 character2:  liked stanley iris m\n",
      "label1  0 label2  1\n",
      "\n",
      "top 5\n",
      "indices:  7612 7663\n",
      "distance:  1.0\n",
      "first 20 character1:  tv white noise compa  ,first 20 character2:  saw theater fell cha\n",
      "label1  1 label2  1\n",
      "\n"
     ]
    }
   ],
   "source": [
    "print_everything(topk_binary)"
   ]
  },
  {
   "cell_type": "code",
   "execution_count": 24,
   "metadata": {
    "collapsed": true
   },
   "outputs": [],
   "source": [
    "topk_tfidf = topk(X_tfidf, 5)"
   ]
  },
  {
   "cell_type": "code",
   "execution_count": 25,
   "metadata": {
    "collapsed": false
   },
   "outputs": [
    {
     "name": "stdout",
     "output_type": "stream",
     "text": [
      "top 1\n",
      "indices:  1474 14534\n",
      "distance:  0.0786737185534\n",
      "first 20 character1:  think bad show right  ,first 20 character2:  praised atlantis los\n",
      "label1  0 label2  0\n",
      "\n",
      "top 2\n",
      "indices:  17759 6864\n",
      "distance:  0.0786737185534\n",
      "first 20 character1:  think new york big f  ,first 20 character2:  praised atlantis los\n",
      "label1  0 label2  0\n",
      "\n",
      "top 3\n",
      "indices:  20002 13530\n",
      "distance:  0.157391306253\n",
      "first 20 character1:  glad came across sho  ,first 20 character2:  brothers psychokinet\n",
      "label1  1 label2  1\n",
      "\n",
      "top 4\n",
      "indices:  24249 3217\n",
      "distance:  0.157391306253\n",
      "first 20 character1:  greatest sin life du  ,first 20 character2:  brothers psychokinet\n",
      "label1  0 label2  1\n",
      "\n",
      "top 5\n",
      "indices:  8313 8651\n",
      "distance:  0.165175434355\n",
      "first 20 character1:  insisting martin lut  ,first 20 character2:  movie beautiful scen\n",
      "label1  1 label2  0\n",
      "\n"
     ]
    }
   ],
   "source": [
    "print_everything(topk_tfidf)"
   ]
  },
  {
   "cell_type": "code",
   "execution_count": 26,
   "metadata": {
    "collapsed": true
   },
   "outputs": [],
   "source": [
    "topk_binary_imbalanced = topk(X_binary_imbalanced, 5)"
   ]
  },
  {
   "cell_type": "code",
   "execution_count": 27,
   "metadata": {
    "collapsed": false
   },
   "outputs": [
    {
     "name": "stdout",
     "output_type": "stream",
     "text": [
      "top 1\n",
      "indices:  824 2915\n",
      "distance:  1.0\n",
      "first 20 character1:  three stooges rocket  ,first 20 character2:  every one see movie \n",
      "label1  0 label2  1\n",
      "\n",
      "top 2\n",
      "indices:  918 5866\n",
      "distance:  1.0\n",
      "first 20 character1:  enjoyed watching bri  ,first 20 character2:  movie star cast john\n",
      "label1  1 label2  1\n",
      "\n",
      "top 3\n",
      "indices:  12625 10919\n",
      "distance:  1.0\n",
      "first 20 character1:  course watching bg l  ,first 20 character2:  kind movie cant beli\n",
      "label1  0 label2  0\n",
      "\n",
      "top 4\n",
      "indices:  14968 4255\n",
      "distance:  1.0\n",
      "first 20 character1:  sun shining wet play  ,first 20 character2:  movie terrible carli\n",
      "label1  0 label2  0\n",
      "\n",
      "top 5\n",
      "indices:  3817 7268\n",
      "distance:  1.41421356237\n",
      "first 20 character1:  roll wonderful littl  ,first 20 character2:  first movie wild rid\n",
      "label1  1 label2  1\n",
      "\n"
     ]
    }
   ],
   "source": [
    "print_everything(topk_binary_imbalanced)"
   ]
  },
  {
   "cell_type": "markdown",
   "metadata": {},
   "source": [
    "Overall, there is only a few overlaps from each design matrix. This might be caused by the fact that there are a lot of ties in dist 1.0 and I used random permutation to break ties"
   ]
  },
  {
   "cell_type": "markdown",
   "metadata": {},
   "source": [
    "### Part III \n",
    "1. taking design matrix as input, generate training set and test set by 80% -20%\n",
    "2. Set up Kfolds, cross validate on regularization factor C\n",
    "3. train and test the model, record the result\n",
    "4. return argmax C\n",
    "5. plot the ROC curve\n",
    "6. use the best c to train the full data set, and predict the test set "
   ]
  },
  {
   "cell_type": "code",
   "execution_count": 36,
   "metadata": {
    "collapsed": false
   },
   "outputs": [],
   "source": [
    "from sklearn.svm import LinearSVC\n",
    "from sklearn.metrics import roc_curve, roc_auc_score\n",
    "from sklearn.model_selection import KFold\n",
    "import matplotlib.pyplot as plt"
   ]
  },
  {
   "cell_type": "code",
   "execution_count": 37,
   "metadata": {
    "collapsed": true
   },
   "outputs": [],
   "source": [
    "def split_train_test(X,y):\n",
    "    np.random.seed = 0\n",
    "    size =X.shape[0]\n",
    "    full_index = np.arange(size)\n",
    "    tr_idx = np.random.choice(full_index, int(size*0.8), replace = False)\n",
    "    te_idx = np.delete(full_index, tr_idx, axis=0)\n",
    "    train_set = X[tr_idx]\n",
    "    test_set = X[te_idx]\n",
    "\n",
    "    train_lb = y[tr_idx]\n",
    "    test_lb = y[te_idx]\n",
    "    return train_set, test_set, train_lb, test_lb"
   ]
  },
  {
   "cell_type": "code",
   "execution_count": 116,
   "metadata": {
    "collapsed": false
   },
   "outputs": [],
   "source": [
    "def get_maximum_c(train_set,train_lb):\n",
    "    kf = KFold(n_splits=5)\n",
    "    auc_scores = []\n",
    "\n",
    "    for i in range(30):\n",
    "        #choose uniform random C in a log 10 scale from 0.0001 to 10000\n",
    "        random_c = np.random.uniform(low=-4, high=4)\n",
    "        random_c = np.power(10,random_c)\n",
    "        t=0\n",
    "        avg_auc_score = 0.0\n",
    "        #CV 5 fold\n",
    "        for train_idx, test_idx in kf.split(train_set):\n",
    "\n",
    "            train_set_cv, test_set_cv = train_set[train_idx], train_set[test_idx]\n",
    "            train_lb_cv, test_lb_cv = train_lb[train_idx], train_lb[test_idx]\n",
    "\n",
    "            clf = LinearSVC(C= random_c)\n",
    "            clf.fit(train_set_cv,train_lb_cv)\n",
    "            pred = clf.predict(test_set_cv)\n",
    "            auc_score = roc_auc_score(test_lb_cv, pred)\n",
    "            #compute the mean score of cv\n",
    "            if t == 0:\n",
    "                avg_auc_score = auc_score\n",
    "            else:\n",
    "                avg_auc_score = avg_auc_score*t/(t+1) + auc_score/(t+1)\n",
    "            t=t+1\n",
    "        auc_scores.append((random_c, avg_auc_score))\n",
    "    auc_scores = sorted(auc_scores, key = lambda x:x[1], reverse = True)\n",
    "    #print(auc_scores)\n",
    "    return auc_scores[0], auc_scores[-1]"
   ]
  },
  {
   "cell_type": "code",
   "execution_count": 120,
   "metadata": {
    "collapsed": false
   },
   "outputs": [],
   "source": [
    "def train_and_plot(X, y):\n",
    "    train_set, test_set, train_lb, test_lb = split_train_test(X, y)\n",
    "    b_score, w_score = get_maximum_c(train_set, train_lb)\n",
    "    best_c, best_score = b_score[0], b_score[1]\n",
    "    worst_c, worst_score = w_score[0], w_score[1]\n",
    "    \n",
    "    print(\"best c is: {:.4f}, the best score is : {:.2%}\".format(best_c, best_score))\n",
    "    print(\"worst c is: {:.4f}, the worst score is : {:.2%}, the lift is {:.2%}\".format(worst_c, worst_score, best_score - worst_score))\n",
    "    \n",
    "    clf = LinearSVC(C= best_c)\n",
    "    clf.fit(train_set,train_lb)\n",
    "    conf_score = clf.decision_function(test_set)\n",
    "    fpr,tpr,_ = roc_curve(test_lb, conf_score)\n",
    "    #plot the roc curve\n",
    "    plt.figure()\n",
    "    lw = 2\n",
    "    plt.plot(fpr, tpr, color='darkorange',\n",
    "             lw=lw, label='ROC curve (area = {:.2})'.format(best_score))\n",
    "    plt.plot([0, 1], [0, 1], color='navy', lw=lw, linestyle='--')\n",
    "    plt.xlim([0.0, 1.0])\n",
    "    plt.ylim([0.0, 1.05])\n",
    "    plt.xlabel('False Positive Rate')\n",
    "    plt.ylabel('True Positive Rate')\n",
    "    plt.title('ROC Curve')\n",
    "    plt.legend(loc=\"lower right\")\n",
    "    plt.show()\n",
    "    \n",
    "    return best_c"
   ]
  },
  {
   "cell_type": "markdown",
   "metadata": {},
   "source": [
    "Test runs for X_counts feature"
   ]
  },
  {
   "cell_type": "code",
   "execution_count": 121,
   "metadata": {
    "collapsed": false
   },
   "outputs": [
    {
     "name": "stdout",
     "output_type": "stream",
     "text": [
      "best c is: 0.0034, the best score is : 87.65%\n",
      "worst c is: 2099.3873, the worst score is : 81.48%, the lift is 6.18%\n"
     ]
    },
    {
     "data": {
      "image/png": "[encoded data removed]",
      "text/plain": [
       "<matplotlib.figure.Figure at 0x7fb462c7cc88>"
      ]
     },
     "metadata": {},
     "output_type": "display_data"
    }
   ],
   "source": [
    "y = train.sentiment.values\n",
    "best_c_counts = train_and_plot(X_counts, y)"
   ]
  },
  {
   "cell_type": "markdown",
   "metadata": {},
   "source": [
    "Test runs for X_binary feature"
   ]
  },
  {
   "cell_type": "code",
   "execution_count": 122,
   "metadata": {
    "collapsed": false
   },
   "outputs": [
    {
     "name": "stdout",
     "output_type": "stream",
     "text": [
      "best c is: 0.0046, the best score is : 87.29%\n",
      "worst c is: 1347.3491, the worst score is : 81.64%, the lift is 5.66%\n"
     ]
    },
    {
     "data": {
      "image/png": "[encoded data removed]",
      "text/plain": [
       "<matplotlib.figure.Figure at 0x7fb4629dcf28>"
      ]
     },
     "metadata": {},
     "output_type": "display_data"
    }
   ],
   "source": [
    "best_c_binary = train_and_plot(X_binary, y)"
   ]
  },
  {
   "cell_type": "markdown",
   "metadata": {},
   "source": [
    "Test runs for X_tfidf feature"
   ]
  },
  {
   "cell_type": "code",
   "execution_count": 82,
   "metadata": {
    "collapsed": false
   },
   "outputs": [
    {
     "name": "stdout",
     "output_type": "stream",
     "text": [
      "best c is: 0.1065, the best score is : 88.32%\n",
      "worst c is: 0.0001, the worst score is : 81.20%, the lift is 7.11%\n"
     ]
    },
    {
     "data": {
      "image/png": "[encoded data removed]",
      "text/plain": [
       "<matplotlib.figure.Figure at 0x7fb45f544e10>"
      ]
     },
     "metadata": {},
     "output_type": "display_data"
    }
   ],
   "source": [
    "best_c_tfidf = train_and_plot(X_tfidf, y)"
   ]
  },
  {
   "cell_type": "markdown",
   "metadata": {},
   "source": [
    "Test runs for imbalanced feature"
   ]
  },
  {
   "cell_type": "code",
   "execution_count": 102,
   "metadata": {
    "collapsed": false
   },
   "outputs": [
    {
     "name": "stdout",
     "output_type": "stream",
     "text": [
      "best c is: 0.0339, the best score is : 80.13%\n",
      "worst c is: 0.0001, the worst score is : 50.59%, the lift is 29.54%\n"
     ]
    },
    {
     "data": {
      "image/png": "[encoded data removed]",
      "text/plain": [
       "<matplotlib.figure.Figure at 0x7fb472f08630>"
      ]
     },
     "metadata": {},
     "output_type": "display_data"
    }
   ],
   "source": [
    "best_c_imbalance = train_and_plot(X_binary_imbalanced, y_label_imbalanced)"
   ]
  },
  {
   "cell_type": "markdown",
   "metadata": {},
   "source": [
    "Use all training data to train the model, predict the test score"
   ]
  },
  {
   "cell_type": "markdown",
   "metadata": {},
   "source": [
    "Basic count feature has a Kaggle score of 0.879 "
   ]
  },
  {
   "cell_type": "code",
   "execution_count": 97,
   "metadata": {
    "collapsed": false
   },
   "outputs": [],
   "source": [
    "clf = LinearSVC(C=best_c_counts)\n",
    "clf.fit(X_counts,train.sentiment.values)\n",
    "kaggle_pred = clf.predict(X_counts_test)\n",
    "output = pd.DataFrame(data={\"id\":test[\"id\"], \"sentiment\":kaggle_pred})\n",
    "output.to_csv( \"Output_counts.csv\", index=False, quoting=3)"
   ]
  },
  {
   "cell_type": "markdown",
   "metadata": {},
   "source": [
    "Binary set has a Kaggle score of 0.876"
   ]
  },
  {
   "cell_type": "code",
   "execution_count": 100,
   "metadata": {
    "collapsed": true
   },
   "outputs": [],
   "source": [
    "clf = LinearSVC(C=best_c_binary)\n",
    "clf.fit(X_binary,train.sentiment.values)\n",
    "kaggle_pred = clf.predict(X_binary_test)\n",
    "output = pd.DataFrame(data={\"id\":test[\"id\"], \"sentiment\":kaggle_pred})\n",
    "output.to_csv( \"Output_binary.csv\", index=False, quoting=3)"
   ]
  },
  {
   "cell_type": "markdown",
   "metadata": {},
   "source": [
    "Tfidf set has a Kaggle score of 0.884 "
   ]
  },
  {
   "cell_type": "code",
   "execution_count": 101,
   "metadata": {
    "collapsed": true
   },
   "outputs": [],
   "source": [
    "clf = LinearSVC(C=best_c_tfidf)\n",
    "clf.fit(X_tfidf,train.sentiment.values)\n",
    "kaggle_pred = clf.predict(X_tfidf_test)\n",
    "output = pd.DataFrame(data={\"id\":test[\"id\"], \"sentiment\":kaggle_pred})\n",
    "output.to_csv( \"Output_tfidf.csv\", index=False, quoting=3)"
   ]
  },
  {
   "cell_type": "markdown",
   "metadata": {},
   "source": [
    "Imbalanced set has a Kaggle score of 0.80"
   ]
  },
  {
   "cell_type": "code",
   "execution_count": 105,
   "metadata": {
    "collapsed": false
   },
   "outputs": [],
   "source": [
    "clf = LinearSVC(C=best_c_imbalance)\n",
    "clf.fit(X_binary_imbalanced, y_label_imbalanced)\n",
    "kaggle_pred = clf.predict(X_binary_test)\n",
    "output = pd.DataFrame(data={\"id\":test[\"id\"], \"sentiment\":kaggle_pred})\n",
    "output.to_csv( \"Output_binary_imbalance.csv\", index=False, quoting=3)"
   ]
  },
  {
   "cell_type": "markdown",
   "metadata": {},
   "source": [
    "So overall the first three model performed in very close levels, with the tfidf one slightly better. The imbalanced one is a little off. Also the model with imbalanced feauture matrix is very sensitive to regularization factor C and there was a big gap between best and worst performance using different C values."
   ]
  },
  {
   "cell_type": "markdown",
   "metadata": {},
   "source": [
    "### Part IV\n",
    "plot the learning curve, using function from sklearn "
   ]
  },
  {
   "cell_type": "code",
   "execution_count": 110,
   "metadata": {
    "collapsed": true
   },
   "outputs": [],
   "source": [
    "from sklearn.model_selection import learning_curve\n",
    "def plot_learning_curve(estimator, title, X, y, ylim=None, cv=None, n_jobs=1, train_sizes=np.linspace(.005, 1.0, 5)):\n",
    "    \n",
    "    plt.figure()\n",
    "    plt.title(title)\n",
    "    if ylim is not None:\n",
    "        plt.ylim(*ylim)\n",
    "    plt.xlabel(\"Training examples\")\n",
    "    plt.ylabel(\"Score\")\n",
    "    train_sizes, train_scores, test_scores = learning_curve(\n",
    "        estimator, X, y, cv=cv, n_jobs=n_jobs, train_sizes=train_sizes)\n",
    "    train_scores_mean = np.mean(train_scores, axis=1)\n",
    "    train_scores_std = np.std(train_scores, axis=1)\n",
    "    test_scores_mean = np.mean(test_scores, axis=1)\n",
    "    test_scores_std = np.std(test_scores, axis=1)\n",
    "    plt.grid()\n",
    "\n",
    "    plt.fill_between(train_sizes, train_scores_mean - train_scores_std,\n",
    "                     train_scores_mean + train_scores_std, alpha=0.1,\n",
    "                     color=\"r\")\n",
    "    plt.fill_between(train_sizes, test_scores_mean - test_scores_std,\n",
    "                     test_scores_mean + test_scores_std, alpha=0.1, color=\"g\")\n",
    "    plt.plot(train_sizes, train_scores_mean, 'o-', color=\"r\",\n",
    "             label=\"Training score\")\n",
    "    plt.plot(train_sizes, test_scores_mean, 'o-', color=\"g\",\n",
    "             label=\"Cross-validation score\")\n",
    "\n",
    "    plt.legend(loc=\"best\")\n",
    "    return plt"
   ]
  },
  {
   "cell_type": "code",
   "execution_count": 115,
   "metadata": {
    "collapsed": false
   },
   "outputs": [
    {
     "data": {
      "image/png": "[encoded data removed]",
      "text/plain": [
       "<matplotlib.figure.Figure at 0x7fb46615ecf8>"
      ]
     },
     "metadata": {},
     "output_type": "display_data"
    }
   ],
   "source": [
    "from sklearn.linear_model import LogisticRegression\n",
    "clf = LogisticRegression(C =0.02)\n",
    "cv = KFold(n_splits=5)\n",
    "train_sizes = [100, 500, 1000, 2000, 3000, 4000, 5000, 7500, 10000, 15000, 20000]\n",
    "plt = plot_learning_curve(estimator=clf, cv =cv, title=\"Logistic Regression\",X=X_counts, y=y, train_sizes = train_sizes)\n",
    "plt.show()"
   ]
  },
  {
   "cell_type": "markdown",
   "metadata": {},
   "source": [
    "So as more training instances are fit into the model, the gap between training score and CV score shrinks. The training score decreases as it's more difficult for model to fit the training set perfectly with more instances. However the model's capability of generalization and prediction increases with more data. The gap indicates that there is still some overfitting with the model. However it seems like the model hasn't reached its full potential and the performance could still rise with more data, although the increase will be very limited as the gap is already fairly small with n = 20000."
   ]
  },
  {
   "cell_type": "code",
   "execution_count": null,
   "metadata": {
    "collapsed": true
   },
   "outputs": [],
   "source": []
  }
 ],
 "metadata": {
  "anaconda-cloud": {},
  "kernelspec": {
   "display_name": "Python [Root]",
   "language": "python",
   "name": "Python [Root]"
  },
  "language_info": {
   "codemirror_mode": {
    "name": "ipython",
    "version": 3
   },
   "file_extension": ".py",
   "mimetype": "text/x-python",
   "name": "python",
   "nbconvert_exporter": "python",
   "pygments_lexer": "ipython3",
   "version": "3.5.2"
  }
 },
 "nbformat": 4,
 "nbformat_minor": 0
}
